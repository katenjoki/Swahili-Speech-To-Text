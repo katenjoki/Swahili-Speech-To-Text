{
 "cells": [
  {
   "cell_type": "code",
   "execution_count": 2,
   "source": [
    "import sys\r\n",
    "sys.path.append(\"../scripts\")\r\n",
    "from loading import audio_prep\r\n",
    "import pandas as pd"
   ],
   "outputs": [],
   "metadata": {}
  },
  {
   "cell_type": "code",
   "execution_count": 3,
   "source": [
    "DATASET_PATH= \"../data/train/wav\"\r\n",
    "TEXT_PATH=\"../data/train/text\"\r\n",
    "\r\n",
    "#call audio_prep class to load  data and \r\n",
    "audio = audio_prep()\r\n",
    "labels = audio.load_data(DATASET_PATH)\r\n",
    "df = audio.load_text(TEXT_PATH)"
   ],
   "outputs": [
    {
     "output_type": "stream",
     "name": "stdout",
     "text": [
      "Preprocessing audio data...\n",
      "Loading the audio files...\n",
      "Loading the transcriptions...\n",
      "Done!\n"
     ]
    }
   ],
   "metadata": {}
  },
  {
   "cell_type": "code",
   "execution_count": 4,
   "source": [
    "df['audio']=labels\r\n",
    "df.head()"
   ],
   "outputs": [
    {
     "output_type": "execute_result",
     "data": {
      "text/plain": [
       "                                                text  \\\n",
       "0             rais wa tanzania jakaya mrisho kikwete   \n",
       "1  yanayo andaliwa nami pendo pondo idhaa ya kisw...   \n",
       "2  inayokutangazia moja kwa moja kutoka jijini da...   \n",
       "3  juma hili bara la afrika limeshuhudia raia wa ...   \n",
       "4    wakipiga kura ya maoni ilikufanya mabadiliko ya   \n",
       "\n",
       "                                               audio  \n",
       "0  ../data/train/wav\\SWH-05-20101106/SWH-05-20101...  \n",
       "1  ../data/train/wav\\SWH-05-20101106/SWH-05-20101...  \n",
       "2  ../data/train/wav\\SWH-05-20101106/SWH-05-20101...  \n",
       "3  ../data/train/wav\\SWH-05-20101106/SWH-05-20101...  \n",
       "4  ../data/train/wav\\SWH-05-20101106/SWH-05-20101...  "
      ],
      "text/html": [
       "<div>\n",
       "<style scoped>\n",
       "    .dataframe tbody tr th:only-of-type {\n",
       "        vertical-align: middle;\n",
       "    }\n",
       "\n",
       "    .dataframe tbody tr th {\n",
       "        vertical-align: top;\n",
       "    }\n",
       "\n",
       "    .dataframe thead th {\n",
       "        text-align: right;\n",
       "    }\n",
       "</style>\n",
       "<table border=\"1\" class=\"dataframe\">\n",
       "  <thead>\n",
       "    <tr style=\"text-align: right;\">\n",
       "      <th></th>\n",
       "      <th>text</th>\n",
       "      <th>audio</th>\n",
       "    </tr>\n",
       "  </thead>\n",
       "  <tbody>\n",
       "    <tr>\n",
       "      <th>0</th>\n",
       "      <td>rais wa tanzania jakaya mrisho kikwete</td>\n",
       "      <td>../data/train/wav\\SWH-05-20101106/SWH-05-20101...</td>\n",
       "    </tr>\n",
       "    <tr>\n",
       "      <th>1</th>\n",
       "      <td>yanayo andaliwa nami pendo pondo idhaa ya kisw...</td>\n",
       "      <td>../data/train/wav\\SWH-05-20101106/SWH-05-20101...</td>\n",
       "    </tr>\n",
       "    <tr>\n",
       "      <th>2</th>\n",
       "      <td>inayokutangazia moja kwa moja kutoka jijini da...</td>\n",
       "      <td>../data/train/wav\\SWH-05-20101106/SWH-05-20101...</td>\n",
       "    </tr>\n",
       "    <tr>\n",
       "      <th>3</th>\n",
       "      <td>juma hili bara la afrika limeshuhudia raia wa ...</td>\n",
       "      <td>../data/train/wav\\SWH-05-20101106/SWH-05-20101...</td>\n",
       "    </tr>\n",
       "    <tr>\n",
       "      <th>4</th>\n",
       "      <td>wakipiga kura ya maoni ilikufanya mabadiliko ya</td>\n",
       "      <td>../data/train/wav\\SWH-05-20101106/SWH-05-20101...</td>\n",
       "    </tr>\n",
       "  </tbody>\n",
       "</table>\n",
       "</div>"
      ]
     },
     "metadata": {},
     "execution_count": 4
    }
   ],
   "metadata": {}
  },
  {
   "cell_type": "code",
   "execution_count": 5,
   "source": [
    "df.shape"
   ],
   "outputs": [
    {
     "output_type": "execute_result",
     "data": {
      "text/plain": [
       "(10180, 2)"
      ]
     },
     "metadata": {},
     "execution_count": 5
    }
   ],
   "metadata": {}
  },
  {
   "cell_type": "code",
   "execution_count": 6,
   "source": [
    "meta=df[:5090]\r\n",
    "meta.tail()"
   ],
   "outputs": [
    {
     "output_type": "execute_result",
     "data": {
      "text/plain": [
       "                                                   text  \\\n",
       "5085  mahakama ya kikatiba nchini ufaransa imepitish...   \n",
       "5086  pamoja na mambo mengine mabandiliko hayo ni pa...   \n",
       "5087  kwa umri wa kustaafu kutoka miaka sitini mpaka...   \n",
       "5088  na umri wa kupewa kiinua mgongo kutoka miaka s...   \n",
       "5089  amesema serikali ya marekani itaendelea kuimar...   \n",
       "\n",
       "                                                  audio  \n",
       "5085  ../data/train/wav\\SWH-15-20101109/SWH-15-20101...  \n",
       "5086  ../data/train/wav\\SWH-15-20101109/SWH-15-20101...  \n",
       "5087  ../data/train/wav\\SWH-15-20101109/SWH-15-20101...  \n",
       "5088  ../data/train/wav\\SWH-15-20101109/SWH-15-20101...  \n",
       "5089  ../data/train/wav\\SWH-15-20101109/SWH-15-20101...  "
      ],
      "text/html": [
       "<div>\n",
       "<style scoped>\n",
       "    .dataframe tbody tr th:only-of-type {\n",
       "        vertical-align: middle;\n",
       "    }\n",
       "\n",
       "    .dataframe tbody tr th {\n",
       "        vertical-align: top;\n",
       "    }\n",
       "\n",
       "    .dataframe thead th {\n",
       "        text-align: right;\n",
       "    }\n",
       "</style>\n",
       "<table border=\"1\" class=\"dataframe\">\n",
       "  <thead>\n",
       "    <tr style=\"text-align: right;\">\n",
       "      <th></th>\n",
       "      <th>text</th>\n",
       "      <th>audio</th>\n",
       "    </tr>\n",
       "  </thead>\n",
       "  <tbody>\n",
       "    <tr>\n",
       "      <th>5085</th>\n",
       "      <td>mahakama ya kikatiba nchini ufaransa imepitish...</td>\n",
       "      <td>../data/train/wav\\SWH-15-20101109/SWH-15-20101...</td>\n",
       "    </tr>\n",
       "    <tr>\n",
       "      <th>5086</th>\n",
       "      <td>pamoja na mambo mengine mabandiliko hayo ni pa...</td>\n",
       "      <td>../data/train/wav\\SWH-15-20101109/SWH-15-20101...</td>\n",
       "    </tr>\n",
       "    <tr>\n",
       "      <th>5087</th>\n",
       "      <td>kwa umri wa kustaafu kutoka miaka sitini mpaka...</td>\n",
       "      <td>../data/train/wav\\SWH-15-20101109/SWH-15-20101...</td>\n",
       "    </tr>\n",
       "    <tr>\n",
       "      <th>5088</th>\n",
       "      <td>na umri wa kupewa kiinua mgongo kutoka miaka s...</td>\n",
       "      <td>../data/train/wav\\SWH-15-20101109/SWH-15-20101...</td>\n",
       "    </tr>\n",
       "    <tr>\n",
       "      <th>5089</th>\n",
       "      <td>amesema serikali ya marekani itaendelea kuimar...</td>\n",
       "      <td>../data/train/wav\\SWH-15-20101109/SWH-15-20101...</td>\n",
       "    </tr>\n",
       "  </tbody>\n",
       "</table>\n",
       "</div>"
      ]
     },
     "metadata": {},
     "execution_count": 6
    }
   ],
   "metadata": {}
  },
  {
   "cell_type": "code",
   "execution_count": 7,
   "source": [
    "df.to_csv(\"../data/metadata.csv\",index=False)\r\n",
    "meta.to_csv(\"../data/metadata2.csv\",index=False)"
   ],
   "outputs": [],
   "metadata": {}
  },
  {
   "cell_type": "code",
   "execution_count": 8,
   "source": [
    "test_path = \"../data/test/wav5\"\r\n",
    "test_text_path = \"../data/test/text\"\r\n",
    "test_audio = audio.load_data(test_path)\r\n"
   ],
   "outputs": [
    {
     "output_type": "stream",
     "name": "stdout",
     "text": [
      "Loading the audio files...\n"
     ]
    }
   ],
   "metadata": {}
  },
  {
   "cell_type": "code",
   "execution_count": 9,
   "source": [
    "test_data = pd.read_fwf(test_text_path,header=None)\r\n",
    "test_data.head()\r\n"
   ],
   "outputs": [
    {
     "output_type": "execute_result",
     "data": {
      "text/plain": [
       "                                                   0  \\\n",
       "0  16k-emission_swahili_05h30_-_06h00_tu_20101124...   \n",
       "1  16k-emission_swahili_05h30_-_06h00_tu_20101124...   \n",
       "2  16k-emission_swahili_05h30_-_06h00_tu_20101124...   \n",
       "3  16k-emission_swahili_05h30_-_06h00_tu_20101124...   \n",
       "4  16k-emission_swahili_05h30_-_06h00_tu_20101124...   \n",
       "\n",
       "                                                   1    2    3    4  \n",
       "0  ya redio france internanational mimi ni zuhra ...  NaN  NaN  NaN  \n",
       "1  marekani yasema iko tayari kuisaidia korea kus...  NaN  NaN  NaN  \n",
       "2  na tume ya uchaguzi nchini nigeria yataja tare...  NaN  NaN  NaN  \n",
       "3  karibu katika awamu ya pili ya matangazo ya as...  NaN  NaN  NaN  \n",
       "4  wachimbaji wote ishirini na kenda ambao waliku...  NaN  NaN  NaN  "
      ],
      "text/html": [
       "<div>\n",
       "<style scoped>\n",
       "    .dataframe tbody tr th:only-of-type {\n",
       "        vertical-align: middle;\n",
       "    }\n",
       "\n",
       "    .dataframe tbody tr th {\n",
       "        vertical-align: top;\n",
       "    }\n",
       "\n",
       "    .dataframe thead th {\n",
       "        text-align: right;\n",
       "    }\n",
       "</style>\n",
       "<table border=\"1\" class=\"dataframe\">\n",
       "  <thead>\n",
       "    <tr style=\"text-align: right;\">\n",
       "      <th></th>\n",
       "      <th>0</th>\n",
       "      <th>1</th>\n",
       "      <th>2</th>\n",
       "      <th>3</th>\n",
       "      <th>4</th>\n",
       "    </tr>\n",
       "  </thead>\n",
       "  <tbody>\n",
       "    <tr>\n",
       "      <th>0</th>\n",
       "      <td>16k-emission_swahili_05h30_-_06h00_tu_20101124...</td>\n",
       "      <td>ya redio france internanational mimi ni zuhra ...</td>\n",
       "      <td>NaN</td>\n",
       "      <td>NaN</td>\n",
       "      <td>NaN</td>\n",
       "    </tr>\n",
       "    <tr>\n",
       "      <th>1</th>\n",
       "      <td>16k-emission_swahili_05h30_-_06h00_tu_20101124...</td>\n",
       "      <td>marekani yasema iko tayari kuisaidia korea kus...</td>\n",
       "      <td>NaN</td>\n",
       "      <td>NaN</td>\n",
       "      <td>NaN</td>\n",
       "    </tr>\n",
       "    <tr>\n",
       "      <th>2</th>\n",
       "      <td>16k-emission_swahili_05h30_-_06h00_tu_20101124...</td>\n",
       "      <td>na tume ya uchaguzi nchini nigeria yataja tare...</td>\n",
       "      <td>NaN</td>\n",
       "      <td>NaN</td>\n",
       "      <td>NaN</td>\n",
       "    </tr>\n",
       "    <tr>\n",
       "      <th>3</th>\n",
       "      <td>16k-emission_swahili_05h30_-_06h00_tu_20101124...</td>\n",
       "      <td>karibu katika awamu ya pili ya matangazo ya as...</td>\n",
       "      <td>NaN</td>\n",
       "      <td>NaN</td>\n",
       "      <td>NaN</td>\n",
       "    </tr>\n",
       "    <tr>\n",
       "      <th>4</th>\n",
       "      <td>16k-emission_swahili_05h30_-_06h00_tu_20101124...</td>\n",
       "      <td>wachimbaji wote ishirini na kenda ambao waliku...</td>\n",
       "      <td>NaN</td>\n",
       "      <td>NaN</td>\n",
       "      <td>NaN</td>\n",
       "    </tr>\n",
       "  </tbody>\n",
       "</table>\n",
       "</div>"
      ]
     },
     "metadata": {},
     "execution_count": 9
    }
   ],
   "metadata": {}
  },
  {
   "cell_type": "code",
   "execution_count": 10,
   "source": [
    "test_data.shape"
   ],
   "outputs": [
    {
     "output_type": "execute_result",
     "data": {
      "text/plain": [
       "(1991, 5)"
      ]
     },
     "metadata": {},
     "execution_count": 10
    }
   ],
   "metadata": {}
  },
  {
   "cell_type": "code",
   "execution_count": 11,
   "source": [
    "test_data.isnull().sum()"
   ],
   "outputs": [
    {
     "output_type": "execute_result",
     "data": {
      "text/plain": [
       "0       0\n",
       "1       0\n",
       "2    1958\n",
       "3    1971\n",
       "4    1977\n",
       "dtype: int64"
      ]
     },
     "metadata": {},
     "execution_count": 11
    }
   ],
   "metadata": {}
  },
  {
   "cell_type": "code",
   "execution_count": 12,
   "source": [
    "test_data['text'] = test_data[test_data.columns[1:]].apply(\r\n",
    "    lambda x: ''.join(x.dropna().astype(str)),\r\n",
    "    axis = 1\r\n",
    ")\r\n",
    "cols = [1,2,3,4]\r\n",
    "test_data.drop(test_data.columns[cols],axis=1,inplace=True)\r\n",
    "test_data.rename(columns={0:'file'},inplace=True)\r\n",
    "test_data.head()"
   ],
   "outputs": [
    {
     "output_type": "execute_result",
     "data": {
      "text/plain": [
       "                                                file  \\\n",
       "0  16k-emission_swahili_05h30_-_06h00_tu_20101124...   \n",
       "1  16k-emission_swahili_05h30_-_06h00_tu_20101124...   \n",
       "2  16k-emission_swahili_05h30_-_06h00_tu_20101124...   \n",
       "3  16k-emission_swahili_05h30_-_06h00_tu_20101124...   \n",
       "4  16k-emission_swahili_05h30_-_06h00_tu_20101124...   \n",
       "\n",
       "                                                text  \n",
       "0  ya redio france internanational mimi ni zuhra ...  \n",
       "1  marekani yasema iko tayari kuisaidia korea kus...  \n",
       "2  na tume ya uchaguzi nchini nigeria yataja tare...  \n",
       "3  karibu katika awamu ya pili ya matangazo ya as...  \n",
       "4  wachimbaji wote ishirini na kenda ambao waliku...  "
      ],
      "text/html": [
       "<div>\n",
       "<style scoped>\n",
       "    .dataframe tbody tr th:only-of-type {\n",
       "        vertical-align: middle;\n",
       "    }\n",
       "\n",
       "    .dataframe tbody tr th {\n",
       "        vertical-align: top;\n",
       "    }\n",
       "\n",
       "    .dataframe thead th {\n",
       "        text-align: right;\n",
       "    }\n",
       "</style>\n",
       "<table border=\"1\" class=\"dataframe\">\n",
       "  <thead>\n",
       "    <tr style=\"text-align: right;\">\n",
       "      <th></th>\n",
       "      <th>file</th>\n",
       "      <th>text</th>\n",
       "    </tr>\n",
       "  </thead>\n",
       "  <tbody>\n",
       "    <tr>\n",
       "      <th>0</th>\n",
       "      <td>16k-emission_swahili_05h30_-_06h00_tu_20101124...</td>\n",
       "      <td>ya redio france internanational mimi ni zuhra ...</td>\n",
       "    </tr>\n",
       "    <tr>\n",
       "      <th>1</th>\n",
       "      <td>16k-emission_swahili_05h30_-_06h00_tu_20101124...</td>\n",
       "      <td>marekani yasema iko tayari kuisaidia korea kus...</td>\n",
       "    </tr>\n",
       "    <tr>\n",
       "      <th>2</th>\n",
       "      <td>16k-emission_swahili_05h30_-_06h00_tu_20101124...</td>\n",
       "      <td>na tume ya uchaguzi nchini nigeria yataja tare...</td>\n",
       "    </tr>\n",
       "    <tr>\n",
       "      <th>3</th>\n",
       "      <td>16k-emission_swahili_05h30_-_06h00_tu_20101124...</td>\n",
       "      <td>karibu katika awamu ya pili ya matangazo ya as...</td>\n",
       "    </tr>\n",
       "    <tr>\n",
       "      <th>4</th>\n",
       "      <td>16k-emission_swahili_05h30_-_06h00_tu_20101124...</td>\n",
       "      <td>wachimbaji wote ishirini na kenda ambao waliku...</td>\n",
       "    </tr>\n",
       "  </tbody>\n",
       "</table>\n",
       "</div>"
      ]
     },
     "metadata": {},
     "execution_count": 12
    }
   ],
   "metadata": {}
  },
  {
   "cell_type": "code",
   "execution_count": 13,
   "source": [
    "len(test_audio)"
   ],
   "outputs": [
    {
     "output_type": "execute_result",
     "data": {
      "text/plain": [
       "3982"
      ]
     },
     "metadata": {},
     "execution_count": 13
    }
   ],
   "metadata": {}
  },
  {
   "cell_type": "code",
   "execution_count": 14,
   "source": [
    "import os\r\n",
    "files = []\r\n",
    "for i, (dirpath, dirnames, filenames) in enumerate(os.walk(test_path)):\r\n",
    "    for f in filenames:\r\n",
    "        if f.endswith('.wav')==True:\r\n",
    "            files.append(f)"
   ],
   "outputs": [],
   "metadata": {}
  },
  {
   "cell_type": "code",
   "execution_count": 15,
   "source": [
    "file = [x.strip('._') for x in files]\r\n",
    "file = [x.strip('.wav') for x in file]\r\n",
    "data = pd.DataFrame()\r\n",
    "data['file'] = file\r\n",
    "data['audio'] = test_audio\r\n",
    "data.head()"
   ],
   "outputs": [
    {
     "output_type": "execute_result",
     "data": {
      "text/plain": [
       "                                                file  \\\n",
       "0  16k-emission_swahili_05h30_-_06h00_tu_20101124...   \n",
       "1  16k-emission_swahili_05h30_-_06h00_tu_20101124...   \n",
       "2  16k-emission_swahili_05h30_-_06h00_tu_20101124...   \n",
       "3  16k-emission_swahili_05h30_-_06h00_tu_20101124...   \n",
       "4  16k-emission_swahili_05h30_-_06h00_tu_20101124...   \n",
       "\n",
       "                                               audio  \n",
       "0  ../data/test/wav5\\SWH-05-20101124/._16k-emissi...  \n",
       "1  ../data/test/wav5\\SWH-05-20101124/._16k-emissi...  \n",
       "2  ../data/test/wav5\\SWH-05-20101124/._16k-emissi...  \n",
       "3  ../data/test/wav5\\SWH-05-20101124/._16k-emissi...  \n",
       "4  ../data/test/wav5\\SWH-05-20101124/._16k-emissi...  "
      ],
      "text/html": [
       "<div>\n",
       "<style scoped>\n",
       "    .dataframe tbody tr th:only-of-type {\n",
       "        vertical-align: middle;\n",
       "    }\n",
       "\n",
       "    .dataframe tbody tr th {\n",
       "        vertical-align: top;\n",
       "    }\n",
       "\n",
       "    .dataframe thead th {\n",
       "        text-align: right;\n",
       "    }\n",
       "</style>\n",
       "<table border=\"1\" class=\"dataframe\">\n",
       "  <thead>\n",
       "    <tr style=\"text-align: right;\">\n",
       "      <th></th>\n",
       "      <th>file</th>\n",
       "      <th>audio</th>\n",
       "    </tr>\n",
       "  </thead>\n",
       "  <tbody>\n",
       "    <tr>\n",
       "      <th>0</th>\n",
       "      <td>16k-emission_swahili_05h30_-_06h00_tu_20101124...</td>\n",
       "      <td>../data/test/wav5\\SWH-05-20101124/._16k-emissi...</td>\n",
       "    </tr>\n",
       "    <tr>\n",
       "      <th>1</th>\n",
       "      <td>16k-emission_swahili_05h30_-_06h00_tu_20101124...</td>\n",
       "      <td>../data/test/wav5\\SWH-05-20101124/._16k-emissi...</td>\n",
       "    </tr>\n",
       "    <tr>\n",
       "      <th>2</th>\n",
       "      <td>16k-emission_swahili_05h30_-_06h00_tu_20101124...</td>\n",
       "      <td>../data/test/wav5\\SWH-05-20101124/._16k-emissi...</td>\n",
       "    </tr>\n",
       "    <tr>\n",
       "      <th>3</th>\n",
       "      <td>16k-emission_swahili_05h30_-_06h00_tu_20101124...</td>\n",
       "      <td>../data/test/wav5\\SWH-05-20101124/._16k-emissi...</td>\n",
       "    </tr>\n",
       "    <tr>\n",
       "      <th>4</th>\n",
       "      <td>16k-emission_swahili_05h30_-_06h00_tu_20101124...</td>\n",
       "      <td>../data/test/wav5\\SWH-05-20101124/._16k-emissi...</td>\n",
       "    </tr>\n",
       "  </tbody>\n",
       "</table>\n",
       "</div>"
      ]
     },
     "metadata": {},
     "execution_count": 15
    }
   ],
   "metadata": {}
  },
  {
   "cell_type": "code",
   "execution_count": 16,
   "source": [
    "test = pd.merge(test_data,data,on='file',how='inner')\r\n",
    "test.drop(['file'],axis=1,inplace=True)\r\n",
    "test.head()"
   ],
   "outputs": [
    {
     "output_type": "execute_result",
     "data": {
      "text/plain": [
       "                                                text  \\\n",
       "0  ya redio france internanational mimi ni zuhra ...   \n",
       "1  ya redio france internanational mimi ni zuhra ...   \n",
       "2  marekani yasema iko tayari kuisaidia korea kus...   \n",
       "3  marekani yasema iko tayari kuisaidia korea kus...   \n",
       "4  na tume ya uchaguzi nchini nigeria yataja tare...   \n",
       "\n",
       "                                               audio  \n",
       "0  ../data/test/wav5\\SWH-05-20101124/._16k-emissi...  \n",
       "1  ../data/test/wav5\\SWH-05-20101124/16k-emission...  \n",
       "2  ../data/test/wav5\\SWH-05-20101124/._16k-emissi...  \n",
       "3  ../data/test/wav5\\SWH-05-20101124/16k-emission...  \n",
       "4  ../data/test/wav5\\SWH-05-20101124/._16k-emissi...  "
      ],
      "text/html": [
       "<div>\n",
       "<style scoped>\n",
       "    .dataframe tbody tr th:only-of-type {\n",
       "        vertical-align: middle;\n",
       "    }\n",
       "\n",
       "    .dataframe tbody tr th {\n",
       "        vertical-align: top;\n",
       "    }\n",
       "\n",
       "    .dataframe thead th {\n",
       "        text-align: right;\n",
       "    }\n",
       "</style>\n",
       "<table border=\"1\" class=\"dataframe\">\n",
       "  <thead>\n",
       "    <tr style=\"text-align: right;\">\n",
       "      <th></th>\n",
       "      <th>text</th>\n",
       "      <th>audio</th>\n",
       "    </tr>\n",
       "  </thead>\n",
       "  <tbody>\n",
       "    <tr>\n",
       "      <th>0</th>\n",
       "      <td>ya redio france internanational mimi ni zuhra ...</td>\n",
       "      <td>../data/test/wav5\\SWH-05-20101124/._16k-emissi...</td>\n",
       "    </tr>\n",
       "    <tr>\n",
       "      <th>1</th>\n",
       "      <td>ya redio france internanational mimi ni zuhra ...</td>\n",
       "      <td>../data/test/wav5\\SWH-05-20101124/16k-emission...</td>\n",
       "    </tr>\n",
       "    <tr>\n",
       "      <th>2</th>\n",
       "      <td>marekani yasema iko tayari kuisaidia korea kus...</td>\n",
       "      <td>../data/test/wav5\\SWH-05-20101124/._16k-emissi...</td>\n",
       "    </tr>\n",
       "    <tr>\n",
       "      <th>3</th>\n",
       "      <td>marekani yasema iko tayari kuisaidia korea kus...</td>\n",
       "      <td>../data/test/wav5\\SWH-05-20101124/16k-emission...</td>\n",
       "    </tr>\n",
       "    <tr>\n",
       "      <th>4</th>\n",
       "      <td>na tume ya uchaguzi nchini nigeria yataja tare...</td>\n",
       "      <td>../data/test/wav5\\SWH-05-20101124/._16k-emissi...</td>\n",
       "    </tr>\n",
       "  </tbody>\n",
       "</table>\n",
       "</div>"
      ]
     },
     "metadata": {},
     "execution_count": 16
    }
   ],
   "metadata": {}
  },
  {
   "cell_type": "code",
   "execution_count": 18,
   "source": [
    "test.isnull().sum()"
   ],
   "outputs": [
    {
     "output_type": "execute_result",
     "data": {
      "text/plain": [
       "text     0\n",
       "audio    0\n",
       "dtype: int64"
      ]
     },
     "metadata": {},
     "execution_count": 18
    }
   ],
   "metadata": {}
  },
  {
   "cell_type": "code",
   "execution_count": 17,
   "source": [
    "test.to_csv(\"../data/test.csv\")"
   ],
   "outputs": [],
   "metadata": {}
  }
 ],
 "metadata": {
  "orig_nbformat": 4,
  "language_info": {
   "name": "python",
   "version": "3.7.4",
   "mimetype": "text/x-python",
   "codemirror_mode": {
    "name": "ipython",
    "version": 3
   },
   "pygments_lexer": "ipython3",
   "nbconvert_exporter": "python",
   "file_extension": ".py"
  },
  "kernelspec": {
   "name": "python3",
   "display_name": "Python 3.7.4 64-bit ('base': conda)"
  },
  "interpreter": {
   "hash": "8d735b603ecbff152ada35ae16a21fdbe503e81339a1e85cc5756dcabf046826"
  }
 },
 "nbformat": 4,
 "nbformat_minor": 2
}